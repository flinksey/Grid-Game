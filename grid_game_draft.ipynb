{
 "cells": [
  {
   "cell_type": "code",
   "execution_count": 2,
   "metadata": {},
   "outputs": [
    {
     "name": "stdout",
     "output_type": "stream",
     "text": [
      "Please enter no. of rows: 2\n",
      "Please enter no. of cols: 3\n",
      "Please enter boundary num: 3\n",
      "\n",
      "\n"
     ]
    }
   ],
   "source": [
    "def set_up():\n",
    "    #Get input from user: M, N, K\n",
    "    M = int(input(\"Please enter no. of rows: \"))\n",
    "    N = int(input(\"Please enter no. of cols: \"))\n",
    "    K = int(input(\"Please enter boundary num: \"))\n",
    "    print(\"\\n\")\n",
    "    \n",
    "    #How can I generate the grid?\n",
    "\n",
    "set_up()"
   ]
  }
 ],
 "metadata": {
  "kernelspec": {
   "display_name": "Python 3",
   "language": "python",
   "name": "python3"
  },
  "language_info": {
   "codemirror_mode": {
    "name": "ipython",
    "version": 3
   },
   "file_extension": ".py",
   "mimetype": "text/x-python",
   "name": "python",
   "nbconvert_exporter": "python",
   "pygments_lexer": "ipython3",
   "version": "3.7.3"
  }
 },
 "nbformat": 4,
 "nbformat_minor": 2
}
